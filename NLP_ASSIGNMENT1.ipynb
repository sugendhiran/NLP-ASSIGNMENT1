{
  "nbformat": 4,
  "nbformat_minor": 0,
  "metadata": {
    "kernelspec": {
      "language": "python",
      "display_name": "Python 3",
      "name": "python3"
    },
    "language_info": {
      "pygments_lexer": "ipython3",
      "nbconvert_exporter": "python",
      "version": "3.6.4",
      "file_extension": ".py",
      "codemirror_mode": {
        "name": "ipython",
        "version": 3
      },
      "name": "python",
      "mimetype": "text/x-python"
    },
    "colab": {
      "name": "NLP ASSIGNMENT1",
      "provenance": [],
      "collapsed_sections": []
    }
  },
  "cells": [
    {
      "cell_type": "raw",
      "metadata": {
        "_uuid": "8f2839f25d086af736a60e9eeb907d3b93b6e0e5",
        "_cell_guid": "b1076dfc-b9ad-4769-8c92-a6c4dae69d19",
        "id": "W_GzosY89g8r"
      },
      "source": [
        "# This Python 3 environment comes with many helpful analytics libraries installed\n",
        "# It is defined by the kaggle/python Docker image: https://github.com/kaggle/docker-python\n",
        "# For example, here's several helpful packages to load\n",
        "\n",
        "import numpy as np # linear algebra\n",
        "import pandas as pd # data processing, CSV file I/O (e.g. pd.read_csv)\n",
        "\n",
        "# Input data files are available in the read-only \"../input/\" directory\n",
        "# For example, running this (by clicking run or pressing Shift+Enter) will list all files under the input directory\n",
        "\n",
        "import os\n",
        "for dirname, _, filenames in os.walk('/kaggle/input'):\n",
        "    for filename in filenames:\n",
        "        print(os.path.join(dirname, filename))\n",
        "\n",
        "# You can write up to 20GB to the current directory (/kaggle/working/) that gets preserved as output when you create a version using \"Save & Run All\" \n",
        "# You can also write temporary files to /kaggle/temp/, but they won't be saved outside of the current session"
      ]
    },
    {
      "cell_type": "code",
      "metadata": {
        "execution": {
          "iopub.status.busy": "2021-08-07T14:35:44.081639Z",
          "iopub.execute_input": "2021-08-07T14:35:44.082006Z",
          "iopub.status.idle": "2021-08-07T14:35:44.086993Z",
          "shell.execute_reply.started": "2021-08-07T14:35:44.081975Z",
          "shell.execute_reply": "2021-08-07T14:35:44.085817Z"
        },
        "trusted": true,
        "id": "R8FsXo_O9g8z"
      },
      "source": [
        "# Data Manipulation\n",
        "import pandas as pd\n",
        "import numpy as np\n",
        "\n",
        "from sklearn.feature_extraction.text import CountVectorizer\n",
        "import nltk\n",
        "\n",
        "from nltk.corpus import stopwords\n",
        "from nltk.stem import PorterStemmer"
      ],
      "execution_count": 7,
      "outputs": []
    },
    {
      "cell_type": "code",
      "metadata": {
        "execution": {
          "iopub.status.busy": "2021-08-07T14:30:23.878642Z",
          "iopub.execute_input": "2021-08-07T14:30:23.878986Z",
          "iopub.status.idle": "2021-08-07T14:30:44.123301Z",
          "shell.execute_reply.started": "2021-08-07T14:30:23.878957Z",
          "shell.execute_reply": "2021-08-07T14:30:44.122333Z"
        },
        "trusted": true,
        "id": "M8Xe9Vec9g82"
      },
      "source": [
        "df = pd.read_csv(\"/kaggle/input/blog-authorship-corpus/blogtext.csv\")\n",
        "df.head()"
      ],
      "execution_count": null,
      "outputs": []
    },
    {
      "cell_type": "code",
      "metadata": {
        "execution": {
          "iopub.status.busy": "2021-08-07T14:30:57.163931Z",
          "iopub.execute_input": "2021-08-07T14:30:57.16427Z",
          "iopub.status.idle": "2021-08-07T14:30:57.170765Z",
          "shell.execute_reply.started": "2021-08-07T14:30:57.164242Z",
          "shell.execute_reply": "2021-08-07T14:30:57.16952Z"
        },
        "trusted": true,
        "id": "zpU8KiwI9g84"
      },
      "source": [
        "df.shape"
      ],
      "execution_count": null,
      "outputs": []
    },
    {
      "cell_type": "code",
      "metadata": {
        "execution": {
          "iopub.status.busy": "2021-08-07T13:11:03.491358Z",
          "iopub.execute_input": "2021-08-07T13:11:03.491672Z",
          "iopub.status.idle": "2021-08-07T13:11:03.543353Z",
          "shell.execute_reply.started": "2021-08-07T13:11:03.491638Z",
          "shell.execute_reply": "2021-08-07T13:11:03.542518Z"
        },
        "trusted": true,
        "id": "LkqGJsSw9g86"
      },
      "source": [
        "df.drop(\"id\", axis=1, inplace=True)"
      ],
      "execution_count": null,
      "outputs": []
    },
    {
      "cell_type": "code",
      "metadata": {
        "execution": {
          "iopub.status.busy": "2021-08-07T14:33:26.020496Z",
          "iopub.execute_input": "2021-08-07T14:33:26.02086Z",
          "iopub.status.idle": "2021-08-07T14:33:26.042581Z",
          "shell.execute_reply.started": "2021-08-07T14:33:26.02083Z",
          "shell.execute_reply": "2021-08-07T14:33:26.041407Z"
        },
        "trusted": true,
        "id": "piMh066v9g87"
      },
      "source": [
        "df.head(1000)"
      ],
      "execution_count": null,
      "outputs": []
    },
    {
      "cell_type": "code",
      "metadata": {
        "execution": {
          "iopub.status.busy": "2021-08-07T14:33:50.112979Z",
          "iopub.execute_input": "2021-08-07T14:33:50.113334Z",
          "iopub.status.idle": "2021-08-07T14:33:50.120779Z",
          "shell.execute_reply.started": "2021-08-07T14:33:50.113303Z",
          "shell.execute_reply": "2021-08-07T14:33:50.119317Z"
        },
        "trusted": true,
        "id": "3DSaplbp9g89"
      },
      "source": [
        "text = df['text']"
      ],
      "execution_count": null,
      "outputs": []
    },
    {
      "cell_type": "code",
      "metadata": {
        "execution": {
          "iopub.status.busy": "2021-08-07T14:33:51.484726Z",
          "iopub.execute_input": "2021-08-07T14:33:51.485067Z",
          "iopub.status.idle": "2021-08-07T14:33:51.49226Z",
          "shell.execute_reply.started": "2021-08-07T14:33:51.485039Z",
          "shell.execute_reply": "2021-08-07T14:33:51.491132Z"
        },
        "trusted": true,
        "id": "AQThn2px9g8_"
      },
      "source": [
        "text.head()"
      ],
      "execution_count": null,
      "outputs": []
    },
    {
      "cell_type": "code",
      "metadata": {
        "execution": {
          "iopub.status.busy": "2021-08-07T14:33:56.193365Z",
          "iopub.execute_input": "2021-08-07T14:33:56.19376Z",
          "iopub.status.idle": "2021-08-07T14:33:56.19976Z",
          "shell.execute_reply.started": "2021-08-07T14:33:56.19372Z",
          "shell.execute_reply": "2021-08-07T14:33:56.198835Z"
        },
        "trusted": true,
        "id": "gFIEmpSp9g9D"
      },
      "source": [
        "text.shape"
      ],
      "execution_count": null,
      "outputs": []
    },
    {
      "cell_type": "code",
      "metadata": {
        "execution": {
          "iopub.status.busy": "2021-08-07T14:34:13.137939Z",
          "iopub.execute_input": "2021-08-07T14:34:13.138282Z",
          "iopub.status.idle": "2021-08-07T14:34:13.142508Z",
          "shell.execute_reply.started": "2021-08-07T14:34:13.138247Z",
          "shell.execute_reply": "2021-08-07T14:34:13.141546Z"
        },
        "trusted": true,
        "id": "A2PdpnzT9g9G"
      },
      "source": [
        "text = text.head(1000)"
      ],
      "execution_count": null,
      "outputs": []
    },
    {
      "cell_type": "code",
      "metadata": {
        "execution": {
          "iopub.status.busy": "2021-08-07T14:34:14.13478Z",
          "iopub.execute_input": "2021-08-07T14:34:14.135158Z",
          "iopub.status.idle": "2021-08-07T14:34:14.140477Z",
          "shell.execute_reply.started": "2021-08-07T14:34:14.135116Z",
          "shell.execute_reply": "2021-08-07T14:34:14.139284Z"
        },
        "trusted": true,
        "id": "D1BmqNcc9g9I"
      },
      "source": [
        "print(text[0])"
      ],
      "execution_count": null,
      "outputs": []
    },
    {
      "cell_type": "markdown",
      "metadata": {
        "id": "l7fcYRh_9g9J"
      },
      "source": [
        "## Stop Words Removal"
      ]
    },
    {
      "cell_type": "code",
      "metadata": {
        "execution": {
          "iopub.status.busy": "2021-08-07T14:35:52.345848Z",
          "iopub.execute_input": "2021-08-07T14:35:52.346244Z",
          "iopub.status.idle": "2021-08-07T14:35:52.359123Z",
          "shell.execute_reply.started": "2021-08-07T14:35:52.346212Z",
          "shell.execute_reply": "2021-08-07T14:35:52.357994Z"
        },
        "trusted": true,
        "id": "b5Z44n2-9g9K"
      },
      "source": [
        "stop = set(stopwords.words('english')) \n",
        "print(stop)"
      ],
      "execution_count": null,
      "outputs": []
    },
    {
      "cell_type": "code",
      "metadata": {
        "execution": {
          "iopub.status.busy": "2021-08-07T14:35:54.676183Z",
          "iopub.execute_input": "2021-08-07T14:35:54.67658Z",
          "iopub.status.idle": "2021-08-07T14:35:54.68119Z",
          "shell.execute_reply.started": "2021-08-07T14:35:54.676546Z",
          "shell.execute_reply": "2021-08-07T14:35:54.680172Z"
        },
        "trusted": true,
        "id": "K8zoD5XT9g9L"
      },
      "source": [
        "def check_word_in_stopwords(word):\n",
        "    if word in set(stopwords.words('english')):\n",
        "        return \"Available\""
      ],
      "execution_count": null,
      "outputs": []
    },
    {
      "cell_type": "code",
      "metadata": {
        "execution": {
          "iopub.status.busy": "2021-08-07T14:36:00.749662Z",
          "iopub.execute_input": "2021-08-07T14:36:00.750215Z",
          "iopub.status.idle": "2021-08-07T14:36:00.756531Z",
          "shell.execute_reply.started": "2021-08-07T14:36:00.750168Z",
          "shell.execute_reply": "2021-08-07T14:36:00.75549Z"
        },
        "trusted": true,
        "id": "0B4Xg2Dc9g9M"
      },
      "source": [
        "check_word_in_stopwords(\"not\")"
      ],
      "execution_count": null,
      "outputs": []
    },
    {
      "cell_type": "code",
      "metadata": {
        "execution": {
          "iopub.status.busy": "2021-08-07T14:41:02.773823Z",
          "iopub.execute_input": "2021-08-07T14:41:02.774196Z",
          "iopub.status.idle": "2021-08-07T14:41:02.780747Z",
          "shell.execute_reply.started": "2021-08-07T14:41:02.774166Z",
          "shell.execute_reply": "2021-08-07T14:41:02.779891Z"
        },
        "trusted": true,
        "id": "LZFzD1AA9g9N"
      },
      "source": [
        "check_word_in_stopwords(\"very\")"
      ],
      "execution_count": null,
      "outputs": []
    },
    {
      "cell_type": "code",
      "metadata": {
        "execution": {
          "iopub.status.busy": "2021-08-07T14:46:20.910743Z",
          "iopub.execute_input": "2021-08-07T14:46:20.911113Z",
          "iopub.status.idle": "2021-08-07T14:46:59.809414Z",
          "shell.execute_reply.started": "2021-08-07T14:46:20.911073Z",
          "shell.execute_reply": "2021-08-07T14:46:59.80846Z"
        },
        "trusted": true,
        "id": "p6tU9PXY9g9O"
      },
      "source": [
        "import re\n",
        "\n",
        "temp =[]\n",
        "\n",
        "snow = nltk.stem.SnowballStemmer('english')\n",
        "\n",
        "for sentence in text.values:\n",
        "    sentence = sentence.lower()                 # Converting to lowercase\n",
        "    cleanr = re.compile('<.*?>')\n",
        "    sentence = re.sub(cleanr, ' ', sentence)        #Removing HTML tags\n",
        "    sentence = re.sub(r'[?|!|\\'|\"|#]',r'',sentence)\n",
        "    sentence = re.sub(r'[.|,|)|(|\\|/]',r' ',sentence)        #Removing Punctuations\n",
        "    \n",
        "    words = [snow.stem(word) for word in sentence.split() if word not in stopwords.words('english')]   # Stemming and removing stopwords\n",
        "    temp.append(words)"
      ],
      "execution_count": null,
      "outputs": []
    },
    {
      "cell_type": "code",
      "metadata": {
        "execution": {
          "iopub.status.busy": "2021-08-07T14:47:15.519784Z",
          "iopub.execute_input": "2021-08-07T14:47:15.520204Z",
          "iopub.status.idle": "2021-08-07T14:47:15.525027Z",
          "shell.execute_reply.started": "2021-08-07T14:47:15.52017Z",
          "shell.execute_reply": "2021-08-07T14:47:15.52361Z"
        },
        "trusted": true,
        "id": "7Y5mkwI69g9P"
      },
      "source": [
        "final_text = temp.copy()"
      ],
      "execution_count": null,
      "outputs": []
    },
    {
      "cell_type": "code",
      "metadata": {
        "execution": {
          "iopub.status.busy": "2021-08-07T14:47:20.610116Z",
          "iopub.execute_input": "2021-08-07T14:47:20.61057Z",
          "iopub.status.idle": "2021-08-07T14:47:20.615981Z",
          "shell.execute_reply.started": "2021-08-07T14:47:20.610536Z",
          "shell.execute_reply": "2021-08-07T14:47:20.615104Z"
        },
        "trusted": true,
        "id": "OHts58vN9g9P"
      },
      "source": [
        "print(text[0])"
      ],
      "execution_count": null,
      "outputs": []
    },
    {
      "cell_type": "code",
      "metadata": {
        "execution": {
          "iopub.status.busy": "2021-08-07T14:47:21.835858Z",
          "iopub.execute_input": "2021-08-07T14:47:21.836449Z",
          "iopub.status.idle": "2021-08-07T14:47:21.84256Z",
          "shell.execute_reply.started": "2021-08-07T14:47:21.836415Z",
          "shell.execute_reply": "2021-08-07T14:47:21.841151Z"
        },
        "trusted": true,
        "id": "aY6spxWK9g9Q"
      },
      "source": [
        "print(final_text[0])"
      ],
      "execution_count": null,
      "outputs": []
    },
    {
      "cell_type": "code",
      "metadata": {
        "execution": {
          "iopub.status.busy": "2021-08-07T14:47:24.845144Z",
          "iopub.execute_input": "2021-08-07T14:47:24.845579Z",
          "iopub.status.idle": "2021-08-07T14:47:24.918998Z",
          "shell.execute_reply.started": "2021-08-07T14:47:24.845546Z",
          "shell.execute_reply": "2021-08-07T14:47:24.918075Z"
        },
        "trusted": true,
        "id": "FFeiMUg19g9Q"
      },
      "source": [
        "sent = []\n",
        "for row in final_text:\n",
        "    sequ = ''\n",
        "    for word in row:\n",
        "        sequ = sequ + ' ' + word\n",
        "    sent.append(sequ)"
      ],
      "execution_count": null,
      "outputs": []
    },
    {
      "cell_type": "code",
      "metadata": {
        "execution": {
          "iopub.status.busy": "2021-08-07T14:47:30.413427Z",
          "iopub.execute_input": "2021-08-07T14:47:30.413797Z",
          "iopub.status.idle": "2021-08-07T14:47:30.419493Z",
          "shell.execute_reply.started": "2021-08-07T14:47:30.413767Z",
          "shell.execute_reply": "2021-08-07T14:47:30.418618Z"
        },
        "trusted": true,
        "id": "ZmUxEpz49g9R"
      },
      "source": [
        "sent[0]"
      ],
      "execution_count": null,
      "outputs": []
    },
    {
      "cell_type": "code",
      "metadata": {
        "execution": {
          "iopub.status.busy": "2021-08-07T14:48:20.796174Z",
          "iopub.execute_input": "2021-08-07T14:48:20.796562Z",
          "iopub.status.idle": "2021-08-07T14:48:20.80187Z",
          "shell.execute_reply.started": "2021-08-07T14:48:20.796522Z",
          "shell.execute_reply": "2021-08-07T14:48:20.800497Z"
        },
        "trusted": true,
        "id": "DeTQQglz9g9S"
      },
      "source": [
        "cv = CountVectorizer(max_features=5000)"
      ],
      "execution_count": null,
      "outputs": []
    },
    {
      "cell_type": "code",
      "metadata": {
        "execution": {
          "iopub.status.busy": "2021-08-07T14:48:51.21421Z",
          "iopub.execute_input": "2021-08-07T14:48:51.214562Z",
          "iopub.status.idle": "2021-08-07T14:48:51.44029Z",
          "shell.execute_reply.started": "2021-08-07T14:48:51.214531Z",
          "shell.execute_reply": "2021-08-07T14:48:51.438946Z"
        },
        "trusted": true,
        "id": "rVUKg5WN9g9T"
      },
      "source": [
        "cv.fit_transform(sent)"
      ],
      "execution_count": null,
      "outputs": []
    },
    {
      "cell_type": "code",
      "metadata": {
        "execution": {
          "iopub.status.busy": "2021-08-07T14:49:26.831055Z",
          "iopub.execute_input": "2021-08-07T14:49:26.831422Z",
          "iopub.status.idle": "2021-08-07T14:49:26.841064Z",
          "shell.execute_reply.started": "2021-08-07T14:49:26.831392Z",
          "shell.execute_reply": "2021-08-07T14:49:26.839916Z"
        },
        "trusted": true,
        "id": "hayA1DlE9g9T"
      },
      "source": [
        "len(list(cv.vocabulary_.items()))"
      ],
      "execution_count": null,
      "outputs": []
    },
    {
      "cell_type": "code",
      "metadata": {
        "id": "ve3TaK-r9g9U"
      },
      "source": [
        ""
      ],
      "execution_count": null,
      "outputs": []
    }
  ]
}